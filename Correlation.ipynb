{
  "nbformat": 4,
  "nbformat_minor": 5,
  "metadata": {
    "kernelspec": {
      "display_name": "Python 3 (ipykernel)",
      "language": "python",
      "name": "python3"
    },
    "language_info": {
      "codemirror_mode": {
        "name": "ipython",
        "version": 3
      },
      "file_extension": ".py",
      "mimetype": "text/x-python",
      "name": "python",
      "nbconvert_exporter": "python",
      "pygments_lexer": "ipython3",
      "version": "3.9.4"
    },
    "colab": {
      "name": "CorrelationPaper.ipynb",
      "provenance": [],
      "collapsed_sections": []
    }
  },
  "cells": [
    {
      "cell_type": "code",
      "metadata": {
        "id": "3e7e9be6"
      },
      "source": [
        "import tensorflow as tf\n",
        "from tensorflow import keras\n",
        "\n",
        "import numpy as np\n",
        "import matplotlib.pyplot as plt\n",
        "import pandas as pd"
      ],
      "id": "3e7e9be6",
      "execution_count": 63,
      "outputs": []
    },
    {
      "cell_type": "code",
      "metadata": {
        "id": "d90dc333"
      },
      "source": [
        "data = pd.read_csv(\"energydata_complete.csv\")"
      ],
      "id": "d90dc333",
      "execution_count": 64,
      "outputs": []
    },
    {
      "cell_type": "code",
      "metadata": {
        "colab": {
          "base_uri": "https://localhost:8080/",
          "height": 392
        },
        "id": "8dc95a5c",
        "outputId": "7a38bd6a-d3ed-4c6c-ff36-54512c08d1d4"
      },
      "source": [
        "data.head()"
      ],
      "id": "8dc95a5c",
      "execution_count": 65,
      "outputs": [
        {
          "output_type": "execute_result",
          "data": {
            "text/html": [
              "<div>\n",
              "<style scoped>\n",
              "    .dataframe tbody tr th:only-of-type {\n",
              "        vertical-align: middle;\n",
              "    }\n",
              "\n",
              "    .dataframe tbody tr th {\n",
              "        vertical-align: top;\n",
              "    }\n",
              "\n",
              "    .dataframe thead th {\n",
              "        text-align: right;\n",
              "    }\n",
              "</style>\n",
              "<table border=\"1\" class=\"dataframe\">\n",
              "  <thead>\n",
              "    <tr style=\"text-align: right;\">\n",
              "      <th></th>\n",
              "      <th>date</th>\n",
              "      <th>Appliances</th>\n",
              "      <th>lights</th>\n",
              "      <th>T1</th>\n",
              "      <th>RH_1</th>\n",
              "      <th>T2</th>\n",
              "      <th>RH_2</th>\n",
              "      <th>T3</th>\n",
              "      <th>RH_3</th>\n",
              "      <th>T4</th>\n",
              "      <th>RH_4</th>\n",
              "      <th>T5</th>\n",
              "      <th>RH_5</th>\n",
              "      <th>T6</th>\n",
              "      <th>RH_6</th>\n",
              "      <th>T7</th>\n",
              "      <th>RH_7</th>\n",
              "      <th>T8</th>\n",
              "      <th>RH_8</th>\n",
              "      <th>T9</th>\n",
              "      <th>RH_9</th>\n",
              "      <th>T_out</th>\n",
              "      <th>Press_mm_hg</th>\n",
              "      <th>RH_out</th>\n",
              "      <th>Windspeed</th>\n",
              "      <th>Visibility</th>\n",
              "      <th>Tdewpoint</th>\n",
              "      <th>rv1</th>\n",
              "      <th>rv2</th>\n",
              "    </tr>\n",
              "  </thead>\n",
              "  <tbody>\n",
              "    <tr>\n",
              "      <th>0</th>\n",
              "      <td>2016-01-11 17:00:00</td>\n",
              "      <td>60</td>\n",
              "      <td>30</td>\n",
              "      <td>19.89</td>\n",
              "      <td>47.596667</td>\n",
              "      <td>19.2</td>\n",
              "      <td>44.790000</td>\n",
              "      <td>19.79</td>\n",
              "      <td>44.730000</td>\n",
              "      <td>19.000000</td>\n",
              "      <td>45.566667</td>\n",
              "      <td>17.166667</td>\n",
              "      <td>55.20</td>\n",
              "      <td>7.026667</td>\n",
              "      <td>84.256667</td>\n",
              "      <td>17.200000</td>\n",
              "      <td>41.626667</td>\n",
              "      <td>18.2</td>\n",
              "      <td>48.900000</td>\n",
              "      <td>17.033333</td>\n",
              "      <td>45.53</td>\n",
              "      <td>6.600000</td>\n",
              "      <td>733.5</td>\n",
              "      <td>92.0</td>\n",
              "      <td>7.000000</td>\n",
              "      <td>63.000000</td>\n",
              "      <td>5.3</td>\n",
              "      <td>13.275433</td>\n",
              "      <td>13.275433</td>\n",
              "    </tr>\n",
              "    <tr>\n",
              "      <th>1</th>\n",
              "      <td>2016-01-11 17:10:00</td>\n",
              "      <td>60</td>\n",
              "      <td>30</td>\n",
              "      <td>19.89</td>\n",
              "      <td>46.693333</td>\n",
              "      <td>19.2</td>\n",
              "      <td>44.722500</td>\n",
              "      <td>19.79</td>\n",
              "      <td>44.790000</td>\n",
              "      <td>19.000000</td>\n",
              "      <td>45.992500</td>\n",
              "      <td>17.166667</td>\n",
              "      <td>55.20</td>\n",
              "      <td>6.833333</td>\n",
              "      <td>84.063333</td>\n",
              "      <td>17.200000</td>\n",
              "      <td>41.560000</td>\n",
              "      <td>18.2</td>\n",
              "      <td>48.863333</td>\n",
              "      <td>17.066667</td>\n",
              "      <td>45.56</td>\n",
              "      <td>6.483333</td>\n",
              "      <td>733.6</td>\n",
              "      <td>92.0</td>\n",
              "      <td>6.666667</td>\n",
              "      <td>59.166667</td>\n",
              "      <td>5.2</td>\n",
              "      <td>18.606195</td>\n",
              "      <td>18.606195</td>\n",
              "    </tr>\n",
              "    <tr>\n",
              "      <th>2</th>\n",
              "      <td>2016-01-11 17:20:00</td>\n",
              "      <td>50</td>\n",
              "      <td>30</td>\n",
              "      <td>19.89</td>\n",
              "      <td>46.300000</td>\n",
              "      <td>19.2</td>\n",
              "      <td>44.626667</td>\n",
              "      <td>19.79</td>\n",
              "      <td>44.933333</td>\n",
              "      <td>18.926667</td>\n",
              "      <td>45.890000</td>\n",
              "      <td>17.166667</td>\n",
              "      <td>55.09</td>\n",
              "      <td>6.560000</td>\n",
              "      <td>83.156667</td>\n",
              "      <td>17.200000</td>\n",
              "      <td>41.433333</td>\n",
              "      <td>18.2</td>\n",
              "      <td>48.730000</td>\n",
              "      <td>17.000000</td>\n",
              "      <td>45.50</td>\n",
              "      <td>6.366667</td>\n",
              "      <td>733.7</td>\n",
              "      <td>92.0</td>\n",
              "      <td>6.333333</td>\n",
              "      <td>55.333333</td>\n",
              "      <td>5.1</td>\n",
              "      <td>28.642668</td>\n",
              "      <td>28.642668</td>\n",
              "    </tr>\n",
              "    <tr>\n",
              "      <th>3</th>\n",
              "      <td>2016-01-11 17:30:00</td>\n",
              "      <td>50</td>\n",
              "      <td>40</td>\n",
              "      <td>19.89</td>\n",
              "      <td>46.066667</td>\n",
              "      <td>19.2</td>\n",
              "      <td>44.590000</td>\n",
              "      <td>19.79</td>\n",
              "      <td>45.000000</td>\n",
              "      <td>18.890000</td>\n",
              "      <td>45.723333</td>\n",
              "      <td>17.166667</td>\n",
              "      <td>55.09</td>\n",
              "      <td>6.433333</td>\n",
              "      <td>83.423333</td>\n",
              "      <td>17.133333</td>\n",
              "      <td>41.290000</td>\n",
              "      <td>18.1</td>\n",
              "      <td>48.590000</td>\n",
              "      <td>17.000000</td>\n",
              "      <td>45.40</td>\n",
              "      <td>6.250000</td>\n",
              "      <td>733.8</td>\n",
              "      <td>92.0</td>\n",
              "      <td>6.000000</td>\n",
              "      <td>51.500000</td>\n",
              "      <td>5.0</td>\n",
              "      <td>45.410389</td>\n",
              "      <td>45.410389</td>\n",
              "    </tr>\n",
              "    <tr>\n",
              "      <th>4</th>\n",
              "      <td>2016-01-11 17:40:00</td>\n",
              "      <td>60</td>\n",
              "      <td>40</td>\n",
              "      <td>19.89</td>\n",
              "      <td>46.333333</td>\n",
              "      <td>19.2</td>\n",
              "      <td>44.530000</td>\n",
              "      <td>19.79</td>\n",
              "      <td>45.000000</td>\n",
              "      <td>18.890000</td>\n",
              "      <td>45.530000</td>\n",
              "      <td>17.200000</td>\n",
              "      <td>55.09</td>\n",
              "      <td>6.366667</td>\n",
              "      <td>84.893333</td>\n",
              "      <td>17.200000</td>\n",
              "      <td>41.230000</td>\n",
              "      <td>18.1</td>\n",
              "      <td>48.590000</td>\n",
              "      <td>17.000000</td>\n",
              "      <td>45.40</td>\n",
              "      <td>6.133333</td>\n",
              "      <td>733.9</td>\n",
              "      <td>92.0</td>\n",
              "      <td>5.666667</td>\n",
              "      <td>47.666667</td>\n",
              "      <td>4.9</td>\n",
              "      <td>10.084097</td>\n",
              "      <td>10.084097</td>\n",
              "    </tr>\n",
              "  </tbody>\n",
              "</table>\n",
              "</div>"
            ],
            "text/plain": [
              "                  date  Appliances  lights  ...  Tdewpoint        rv1        rv2\n",
              "0  2016-01-11 17:00:00          60      30  ...        5.3  13.275433  13.275433\n",
              "1  2016-01-11 17:10:00          60      30  ...        5.2  18.606195  18.606195\n",
              "2  2016-01-11 17:20:00          50      30  ...        5.1  28.642668  28.642668\n",
              "3  2016-01-11 17:30:00          50      40  ...        5.0  45.410389  45.410389\n",
              "4  2016-01-11 17:40:00          60      40  ...        4.9  10.084097  10.084097\n",
              "\n",
              "[5 rows x 29 columns]"
            ]
          },
          "metadata": {},
          "execution_count": 65
        }
      ]
    },
    {
      "cell_type": "code",
      "metadata": {
        "id": "364dabdb"
      },
      "source": [
        "X = data.iloc[:, 1:-2].values\n",
        "y = data.iloc[:, 27].values"
      ],
      "id": "364dabdb",
      "execution_count": 66,
      "outputs": []
    },
    {
      "cell_type": "code",
      "metadata": {
        "colab": {
          "base_uri": "https://localhost:8080/"
        },
        "id": "8db98fc4",
        "outputId": "8d59a0a3-e27b-4080-8dfe-0da987994212"
      },
      "source": [
        "X.shape, y.shape"
      ],
      "id": "8db98fc4",
      "execution_count": 67,
      "outputs": [
        {
          "output_type": "execute_result",
          "data": {
            "text/plain": [
              "((19735, 26), (19735,))"
            ]
          },
          "metadata": {},
          "execution_count": 67
        }
      ]
    },
    {
      "cell_type": "code",
      "metadata": {
        "colab": {
          "base_uri": "https://localhost:8080/",
          "height": 36
        },
        "id": "32a1e93b",
        "outputId": "bf7550d4-5cac-4363-e421-8085a174d604"
      },
      "source": [
        "headers = data.columns\n",
        "headers = list(headers)\n",
        "headers.pop(0)"
      ],
      "id": "32a1e93b",
      "execution_count": 68,
      "outputs": [
        {
          "output_type": "execute_result",
          "data": {
            "application/vnd.google.colaboratory.intrinsic+json": {
              "type": "string"
            },
            "text/plain": [
              "'date'"
            ]
          },
          "metadata": {},
          "execution_count": 68
        }
      ]
    },
    {
      "cell_type": "code",
      "metadata": {
        "colab": {
          "base_uri": "https://localhost:8080/",
          "height": 36
        },
        "id": "cdbb7b7a",
        "outputId": "cb3ab75d-3cf7-4d4a-91ba-fb1e5d713799"
      },
      "source": [
        "headers.pop(-1)\n",
        "headers.pop(-1)"
      ],
      "id": "cdbb7b7a",
      "execution_count": 69,
      "outputs": [
        {
          "output_type": "execute_result",
          "data": {
            "application/vnd.google.colaboratory.intrinsic+json": {
              "type": "string"
            },
            "text/plain": [
              "'rv1'"
            ]
          },
          "metadata": {},
          "execution_count": 69
        }
      ]
    },
    {
      "cell_type": "code",
      "metadata": {
        "colab": {
          "base_uri": "https://localhost:8080/"
        },
        "id": "b3a34ea4",
        "outputId": "540a1b2c-9e45-4a1c-8a56-2d13143a5c3a"
      },
      "source": [
        "headers"
      ],
      "id": "b3a34ea4",
      "execution_count": 70,
      "outputs": [
        {
          "output_type": "execute_result",
          "data": {
            "text/plain": [
              "['Appliances',\n",
              " 'lights',\n",
              " 'T1',\n",
              " 'RH_1',\n",
              " 'T2',\n",
              " 'RH_2',\n",
              " 'T3',\n",
              " 'RH_3',\n",
              " 'T4',\n",
              " 'RH_4',\n",
              " 'T5',\n",
              " 'RH_5',\n",
              " 'T6',\n",
              " 'RH_6',\n",
              " 'T7',\n",
              " 'RH_7',\n",
              " 'T8',\n",
              " 'RH_8',\n",
              " 'T9',\n",
              " 'RH_9',\n",
              " 'T_out',\n",
              " 'Press_mm_hg',\n",
              " 'RH_out',\n",
              " 'Windspeed',\n",
              " 'Visibility',\n",
              " 'Tdewpoint']"
            ]
          },
          "metadata": {},
          "execution_count": 70
        }
      ]
    },
    {
      "cell_type": "code",
      "metadata": {
        "colab": {
          "base_uri": "https://localhost:8080/"
        },
        "id": "5ad64bb8",
        "outputId": "1b728615-5ecb-4c28-aa21-c5985a8b4c67"
      },
      "source": [
        "correl = data.corr()\n",
        "correl['rv1'].sort_values(ascending=False)"
      ],
      "id": "5ad64bb8",
      "execution_count": 71,
      "outputs": [
        {
          "output_type": "execute_result",
          "data": {
            "text/plain": [
              "rv2            1.000000\n",
              "rv1            1.000000\n",
              "RH_out         0.020441\n",
              "RH_6           0.011671\n",
              "RH_2           0.006275\n",
              "RH_8           0.004480\n",
              "RH_7           0.001820\n",
              "Press_mm_hg    0.000699\n",
              "lights         0.000521\n",
              "RH_3          -0.000477\n",
              "RH_1          -0.000699\n",
              "T9            -0.001227\n",
              "RH_4          -0.001787\n",
              "T4            -0.001815\n",
              "RH_9          -0.002955\n",
              "T8            -0.003210\n",
              "T7            -0.003900\n",
              "Tdewpoint     -0.003943\n",
              "T3            -0.005194\n",
              "T5            -0.005490\n",
              "Visibility    -0.005889\n",
              "T1            -0.006203\n",
              "RH_5          -0.011056\n",
              "T2            -0.011087\n",
              "Appliances    -0.011145\n",
              "Windspeed     -0.011342\n",
              "T6            -0.015086\n",
              "T_out         -0.015216\n",
              "Name: rv1, dtype: float64"
            ]
          },
          "metadata": {},
          "execution_count": 71
        }
      ]
    },
    {
      "cell_type": "code",
      "metadata": {
        "colab": {
          "base_uri": "https://localhost:8080/"
        },
        "id": "e16edadb",
        "outputId": "ed1ee365-ccfc-47a5-8558-fb46db8d2576"
      },
      "source": [
        "cor_val = correl['rv1']\n",
        "cor_val"
      ],
      "id": "e16edadb",
      "execution_count": 72,
      "outputs": [
        {
          "output_type": "execute_result",
          "data": {
            "text/plain": [
              "Appliances    -0.011145\n",
              "lights         0.000521\n",
              "T1            -0.006203\n",
              "RH_1          -0.000699\n",
              "T2            -0.011087\n",
              "RH_2           0.006275\n",
              "T3            -0.005194\n",
              "RH_3          -0.000477\n",
              "T4            -0.001815\n",
              "RH_4          -0.001787\n",
              "T5            -0.005490\n",
              "RH_5          -0.011056\n",
              "T6            -0.015086\n",
              "RH_6           0.011671\n",
              "T7            -0.003900\n",
              "RH_7           0.001820\n",
              "T8            -0.003210\n",
              "RH_8           0.004480\n",
              "T9            -0.001227\n",
              "RH_9          -0.002955\n",
              "T_out         -0.015216\n",
              "Press_mm_hg    0.000699\n",
              "RH_out         0.020441\n",
              "Windspeed     -0.011342\n",
              "Visibility    -0.005889\n",
              "Tdewpoint     -0.003943\n",
              "rv1            1.000000\n",
              "rv2            1.000000\n",
              "Name: rv1, dtype: float64"
            ]
          },
          "metadata": {},
          "execution_count": 72
        }
      ]
    },
    {
      "cell_type": "code",
      "metadata": {
        "id": "b9164284"
      },
      "source": [
        "high_cor = [i for i in correl if correl['rv1'][i] > 0.003 or correl['rv1'][i] < -0.005]"
      ],
      "id": "b9164284",
      "execution_count": 73,
      "outputs": []
    },
    {
      "cell_type": "code",
      "metadata": {
        "colab": {
          "base_uri": "https://localhost:8080/",
          "height": 36
        },
        "id": "dfdd8877",
        "outputId": "43a68b24-e9fb-418e-f321-71fc17848ef8"
      },
      "source": [
        "high_cor.pop(-1)"
      ],
      "id": "dfdd8877",
      "execution_count": 74,
      "outputs": [
        {
          "output_type": "execute_result",
          "data": {
            "application/vnd.google.colaboratory.intrinsic+json": {
              "type": "string"
            },
            "text/plain": [
              "'rv2'"
            ]
          },
          "metadata": {},
          "execution_count": 74
        }
      ]
    },
    {
      "cell_type": "code",
      "metadata": {
        "colab": {
          "base_uri": "https://localhost:8080/",
          "height": 36
        },
        "id": "9a95985a",
        "outputId": "3b35403f-01bc-4544-e7f2-abca3d85dccb"
      },
      "source": [
        "high_cor.pop(-1)"
      ],
      "id": "9a95985a",
      "execution_count": 75,
      "outputs": [
        {
          "output_type": "execute_result",
          "data": {
            "application/vnd.google.colaboratory.intrinsic+json": {
              "type": "string"
            },
            "text/plain": [
              "'rv1'"
            ]
          },
          "metadata": {},
          "execution_count": 75
        }
      ]
    },
    {
      "cell_type": "code",
      "metadata": {
        "colab": {
          "base_uri": "https://localhost:8080/"
        },
        "id": "988f1fad",
        "outputId": "14196c84-e4e7-4914-b380-730ebf3aabcd"
      },
      "source": [
        "low_correl = [i for i in cor_val.index if i not in high_cor]\n",
        "low_correl"
      ],
      "id": "988f1fad",
      "execution_count": 76,
      "outputs": [
        {
          "output_type": "execute_result",
          "data": {
            "text/plain": [
              "['lights',\n",
              " 'RH_1',\n",
              " 'RH_3',\n",
              " 'T4',\n",
              " 'RH_4',\n",
              " 'T7',\n",
              " 'RH_7',\n",
              " 'T8',\n",
              " 'T9',\n",
              " 'RH_9',\n",
              " 'Press_mm_hg',\n",
              " 'Tdewpoint',\n",
              " 'rv1',\n",
              " 'rv2']"
            ]
          },
          "metadata": {},
          "execution_count": 76
        }
      ]
    },
    {
      "cell_type": "code",
      "metadata": {
        "colab": {
          "base_uri": "https://localhost:8080/"
        },
        "id": "041e46cb",
        "outputId": "360f6eca-464e-4807-c3f5-7bcf6ef4f43c"
      },
      "source": [
        "low_correl.pop(-1)\n",
        "low_correl.pop(-1)\n",
        "low_correl"
      ],
      "id": "041e46cb",
      "execution_count": 77,
      "outputs": [
        {
          "output_type": "execute_result",
          "data": {
            "text/plain": [
              "['lights',\n",
              " 'RH_1',\n",
              " 'RH_3',\n",
              " 'T4',\n",
              " 'RH_4',\n",
              " 'T7',\n",
              " 'RH_7',\n",
              " 'T8',\n",
              " 'T9',\n",
              " 'RH_9',\n",
              " 'Press_mm_hg',\n",
              " 'Tdewpoint']"
            ]
          },
          "metadata": {},
          "execution_count": 77
        }
      ]
    },
    {
      "cell_type": "code",
      "metadata": {
        "colab": {
          "base_uri": "https://localhost:8080/"
        },
        "id": "e460e15b",
        "outputId": "83a1e4c6-5eac-4a96-db31-4c47e25fe7be"
      },
      "source": [
        "high_index = []\n",
        "for i in high_cor:\n",
        "    high_index.append(headers.index(i))\n",
        "    \n",
        "high_index"
      ],
      "id": "e460e15b",
      "execution_count": 78,
      "outputs": [
        {
          "output_type": "execute_result",
          "data": {
            "text/plain": [
              "[0, 2, 4, 5, 6, 10, 11, 12, 13, 17, 20, 22, 23, 24]"
            ]
          },
          "metadata": {},
          "execution_count": 78
        }
      ]
    },
    {
      "cell_type": "code",
      "metadata": {
        "colab": {
          "base_uri": "https://localhost:8080/"
        },
        "id": "6f599a7f",
        "outputId": "22bfbbf1-5e7c-45ef-b434-ecb58a7ed9d9"
      },
      "source": [
        "low_index = []\n",
        "for i in low_correl:\n",
        "    low_index.append(headers.index(i))\n",
        "    \n",
        "low_index"
      ],
      "id": "6f599a7f",
      "execution_count": 79,
      "outputs": [
        {
          "output_type": "execute_result",
          "data": {
            "text/plain": [
              "[1, 3, 7, 8, 9, 14, 15, 16, 18, 19, 21, 25]"
            ]
          },
          "metadata": {},
          "execution_count": 79
        }
      ]
    },
    {
      "cell_type": "code",
      "metadata": {
        "colab": {
          "base_uri": "https://localhost:8080/"
        },
        "id": "017a1906",
        "outputId": "224874f5-0307-4217-e6de-07497ecb0b01"
      },
      "source": [
        "len(high_cor), len(low_correl)"
      ],
      "id": "017a1906",
      "execution_count": 80,
      "outputs": [
        {
          "output_type": "execute_result",
          "data": {
            "text/plain": [
              "(14, 12)"
            ]
          },
          "metadata": {},
          "execution_count": 80
        }
      ]
    },
    {
      "cell_type": "code",
      "metadata": {
        "id": "7c5766fd"
      },
      "source": [
        "X_train_A = X[:, tuple(high_index)]\n",
        "X_train_B = X[:, tuple(low_index)]"
      ],
      "id": "7c5766fd",
      "execution_count": 81,
      "outputs": []
    },
    {
      "cell_type": "code",
      "metadata": {
        "colab": {
          "base_uri": "https://localhost:8080/"
        },
        "id": "7570b23f",
        "outputId": "019a4c11-4a2e-49ab-c325-5ca5ff785442"
      },
      "source": [
        "y =  np.asarray(y).astype(np.float32)\n",
        "y"
      ],
      "id": "7570b23f",
      "execution_count": 82,
      "outputs": [
        {
          "output_type": "execute_result",
          "data": {
            "text/plain": [
              "array([13.275434 , 18.606195 , 28.642668 , ..., 29.199118 ,  6.3227835,\n",
              "       34.11885  ], dtype=float32)"
            ]
          },
          "metadata": {},
          "execution_count": 82
        }
      ]
    },
    {
      "cell_type": "code",
      "metadata": {
        "id": "841cb2ae"
      },
      "source": [
        "X_train_A =  np.asarray(X_train_A).astype(np.int32)\n",
        "X_train_B =  np.asarray(X_train_B).astype(np.int32)"
      ],
      "id": "841cb2ae",
      "execution_count": 83,
      "outputs": []
    },
    {
      "cell_type": "code",
      "metadata": {
        "id": "jPNZe2VXuruH"
      },
      "source": [
        "keras.backend.clear_session()"
      ],
      "id": "jPNZe2VXuruH",
      "execution_count": 84,
      "outputs": []
    },
    {
      "cell_type": "code",
      "metadata": {
        "id": "9f4f6085"
      },
      "source": [
        "from tensorflow import keras\n",
        "import tensorflow as tf\n",
        "\n",
        "input_A = keras.layers.Input(shape=[12], name=\"less_correlation\")\n",
        "input_B = keras.layers.Input(shape=[14], name=\"high_correlation\")\n",
        "\n",
        "hidden1 = keras.layers.Dense(10, activation=\"selu\", kernel_initializer=\"lecun_normal\")(input_B)\n",
        "hidden2 = keras.layers.Dense(10, activation=\"selu\", kernel_initializer=\"lecun_normal\")(hidden1)\n",
        "hidden3 = keras.layers.Dense(10, activation=\"selu\", kernel_initializer=\"lecun_normal\")(hidden2)\n",
        "\n",
        "concat = keras.layers.Concatenate()([input_A, hidden3])\n",
        "\n",
        "hidden4 = keras.layers.Dense(8, activation=\"selu\", kernel_initializer=\"lecun_normal\")(concat)\n",
        "hidden5 = keras.layers.Dense(8, activation=\"selu\", kernel_initializer=\"lecun_normal\")(hidden4)\n",
        "hidden6 = keras.layers.Dense(6, activation=\"selu\", kernel_initializer=\"lecun_normal\")(hidden5)\n",
        "\n",
        "output = keras.layers.Dense(1, name=\"output\")(hidden6)\n",
        "\n",
        "model = keras.models.Model(inputs=[input_A, input_B], outputs=[output])"
      ],
      "id": "9f4f6085",
      "execution_count": 85,
      "outputs": []
    },
    {
      "cell_type": "code",
      "metadata": {
        "id": "8045bc10"
      },
      "source": [
        "model.compile(loss=\"mean_squared_error\", optimizer=keras.optimizers.Adam(learning_rate=0.001, beta_1=0.9, beta_2=0.999), metrics=[\"mean_squared_error\"])"
      ],
      "id": "8045bc10",
      "execution_count": 86,
      "outputs": []
    },
    {
      "cell_type": "code",
      "metadata": {
        "colab": {
          "base_uri": "https://localhost:8080/"
        },
        "id": "e13306b9",
        "outputId": "1aa8e72b-e7ef-4e43-d419-98a971f99d6f"
      },
      "source": [
        "model.summary()"
      ],
      "id": "e13306b9",
      "execution_count": 87,
      "outputs": [
        {
          "output_type": "stream",
          "name": "stdout",
          "text": [
            "Model: \"model\"\n",
            "__________________________________________________________________________________________________\n",
            "Layer (type)                    Output Shape         Param #     Connected to                     \n",
            "==================================================================================================\n",
            "high_correlation (InputLayer)   [(None, 14)]         0                                            \n",
            "__________________________________________________________________________________________________\n",
            "dense (Dense)                   (None, 10)           150         high_correlation[0][0]           \n",
            "__________________________________________________________________________________________________\n",
            "dense_1 (Dense)                 (None, 10)           110         dense[0][0]                      \n",
            "__________________________________________________________________________________________________\n",
            "less_correlation (InputLayer)   [(None, 12)]         0                                            \n",
            "__________________________________________________________________________________________________\n",
            "dense_2 (Dense)                 (None, 10)           110         dense_1[0][0]                    \n",
            "__________________________________________________________________________________________________\n",
            "concatenate (Concatenate)       (None, 22)           0           less_correlation[0][0]           \n",
            "                                                                 dense_2[0][0]                    \n",
            "__________________________________________________________________________________________________\n",
            "dense_3 (Dense)                 (None, 8)            184         concatenate[0][0]                \n",
            "__________________________________________________________________________________________________\n",
            "dense_4 (Dense)                 (None, 8)            72          dense_3[0][0]                    \n",
            "__________________________________________________________________________________________________\n",
            "dense_5 (Dense)                 (None, 6)            54          dense_4[0][0]                    \n",
            "__________________________________________________________________________________________________\n",
            "output (Dense)                  (None, 1)            7           dense_5[0][0]                    \n",
            "==================================================================================================\n",
            "Total params: 687\n",
            "Trainable params: 687\n",
            "Non-trainable params: 0\n",
            "__________________________________________________________________________________________________\n"
          ]
        }
      ]
    },
    {
      "cell_type": "code",
      "metadata": {
        "colab": {
          "base_uri": "https://localhost:8080/"
        },
        "id": "c2b435c9",
        "outputId": "c6b294a2-631d-490a-de06-baf350c72d7b"
      },
      "source": [
        "import time\n",
        "\n",
        "start = time.time()\n",
        "history = model.fit({\"less_correlation\": X_train_B, \"high_correlation\" : X_train_A}, y, epochs=100)\n",
        "time.sleep(1)\n",
        "end = time.time()\n",
        "print(f\"Runtime of the program is {end - start}\")"
      ],
      "id": "c2b435c9",
      "execution_count": 88,
      "outputs": [
        {
          "output_type": "stream",
          "name": "stdout",
          "text": [
            "Epoch 1/100\n",
            "617/617 [==============================] - 2s 2ms/step - loss: 240.7214 - mean_squared_error: 240.7214\n",
            "Epoch 2/100\n",
            "617/617 [==============================] - 1s 2ms/step - loss: 211.1785 - mean_squared_error: 211.1785\n",
            "Epoch 3/100\n",
            "617/617 [==============================] - 1s 2ms/step - loss: 211.5334 - mean_squared_error: 211.5334\n",
            "Epoch 4/100\n",
            "617/617 [==============================] - 1s 2ms/step - loss: 211.0827 - mean_squared_error: 211.0827\n",
            "Epoch 5/100\n",
            "617/617 [==============================] - 1s 2ms/step - loss: 211.2133 - mean_squared_error: 211.2133\n",
            "Epoch 6/100\n",
            "617/617 [==============================] - 1s 2ms/step - loss: 211.1360 - mean_squared_error: 211.1360\n",
            "Epoch 7/100\n",
            "617/617 [==============================] - 1s 2ms/step - loss: 210.6493 - mean_squared_error: 210.6493\n",
            "Epoch 8/100\n",
            "617/617 [==============================] - 1s 2ms/step - loss: 210.9163 - mean_squared_error: 210.9163\n",
            "Epoch 9/100\n",
            "617/617 [==============================] - 1s 2ms/step - loss: 210.8477 - mean_squared_error: 210.8477\n",
            "Epoch 10/100\n",
            "617/617 [==============================] - 1s 2ms/step - loss: 210.6940 - mean_squared_error: 210.6940\n",
            "Epoch 11/100\n",
            "617/617 [==============================] - 1s 2ms/step - loss: 210.7515 - mean_squared_error: 210.7515\n",
            "Epoch 12/100\n",
            "617/617 [==============================] - 1s 2ms/step - loss: 210.8829 - mean_squared_error: 210.8829\n",
            "Epoch 13/100\n",
            "617/617 [==============================] - 1s 2ms/step - loss: 210.6849 - mean_squared_error: 210.6849\n",
            "Epoch 14/100\n",
            "617/617 [==============================] - 1s 2ms/step - loss: 210.5584 - mean_squared_error: 210.5584\n",
            "Epoch 15/100\n",
            "617/617 [==============================] - 1s 2ms/step - loss: 210.8055 - mean_squared_error: 210.8055\n",
            "Epoch 16/100\n",
            "617/617 [==============================] - 1s 2ms/step - loss: 210.6145 - mean_squared_error: 210.6145\n",
            "Epoch 17/100\n",
            "617/617 [==============================] - 1s 2ms/step - loss: 210.5621 - mean_squared_error: 210.5621\n",
            "Epoch 18/100\n",
            "617/617 [==============================] - 1s 2ms/step - loss: 210.6636 - mean_squared_error: 210.6636\n",
            "Epoch 19/100\n",
            "617/617 [==============================] - 1s 2ms/step - loss: 210.5568 - mean_squared_error: 210.5568\n",
            "Epoch 20/100\n",
            "617/617 [==============================] - 1s 2ms/step - loss: 210.7074 - mean_squared_error: 210.7074\n",
            "Epoch 21/100\n",
            "617/617 [==============================] - 1s 2ms/step - loss: 210.6720 - mean_squared_error: 210.6720\n",
            "Epoch 22/100\n",
            "617/617 [==============================] - 1s 2ms/step - loss: 210.6228 - mean_squared_error: 210.6228\n",
            "Epoch 23/100\n",
            "617/617 [==============================] - 1s 2ms/step - loss: 210.7018 - mean_squared_error: 210.7018\n",
            "Epoch 24/100\n",
            "617/617 [==============================] - 1s 2ms/step - loss: 210.4609 - mean_squared_error: 210.4609\n",
            "Epoch 25/100\n",
            "617/617 [==============================] - 1s 2ms/step - loss: 210.5852 - mean_squared_error: 210.5852\n",
            "Epoch 26/100\n",
            "617/617 [==============================] - 1s 2ms/step - loss: 210.4669 - mean_squared_error: 210.4669\n",
            "Epoch 27/100\n",
            "617/617 [==============================] - 1s 2ms/step - loss: 210.2910 - mean_squared_error: 210.2910\n",
            "Epoch 28/100\n",
            "617/617 [==============================] - 1s 2ms/step - loss: 210.4976 - mean_squared_error: 210.4976\n",
            "Epoch 29/100\n",
            "617/617 [==============================] - 1s 2ms/step - loss: 210.5027 - mean_squared_error: 210.5027\n",
            "Epoch 30/100\n",
            "617/617 [==============================] - 1s 2ms/step - loss: 210.7944 - mean_squared_error: 210.7944\n",
            "Epoch 31/100\n",
            "617/617 [==============================] - 1s 2ms/step - loss: 210.4223 - mean_squared_error: 210.4223\n",
            "Epoch 32/100\n",
            "617/617 [==============================] - 1s 2ms/step - loss: 210.5234 - mean_squared_error: 210.5234\n",
            "Epoch 33/100\n",
            "617/617 [==============================] - 1s 2ms/step - loss: 210.5835 - mean_squared_error: 210.5835\n",
            "Epoch 34/100\n",
            "617/617 [==============================] - 1s 2ms/step - loss: 210.5501 - mean_squared_error: 210.5501\n",
            "Epoch 35/100\n",
            "617/617 [==============================] - 1s 2ms/step - loss: 210.4246 - mean_squared_error: 210.4246\n",
            "Epoch 36/100\n",
            "617/617 [==============================] - 1s 2ms/step - loss: 210.4944 - mean_squared_error: 210.4944\n",
            "Epoch 37/100\n",
            "617/617 [==============================] - 1s 2ms/step - loss: 210.5220 - mean_squared_error: 210.5220\n",
            "Epoch 38/100\n",
            "617/617 [==============================] - 1s 2ms/step - loss: 210.2573 - mean_squared_error: 210.2573\n",
            "Epoch 39/100\n",
            "617/617 [==============================] - 1s 2ms/step - loss: 210.2555 - mean_squared_error: 210.2555\n",
            "Epoch 40/100\n",
            "617/617 [==============================] - 1s 2ms/step - loss: 210.4661 - mean_squared_error: 210.4661\n",
            "Epoch 41/100\n",
            "617/617 [==============================] - 1s 2ms/step - loss: 210.5068 - mean_squared_error: 210.5068\n",
            "Epoch 42/100\n",
            "617/617 [==============================] - 1s 2ms/step - loss: 210.4478 - mean_squared_error: 210.4478\n",
            "Epoch 43/100\n",
            "617/617 [==============================] - 1s 2ms/step - loss: 210.3499 - mean_squared_error: 210.3499\n",
            "Epoch 44/100\n",
            "617/617 [==============================] - 1s 2ms/step - loss: 210.3306 - mean_squared_error: 210.3306\n",
            "Epoch 45/100\n",
            "617/617 [==============================] - 1s 2ms/step - loss: 210.3358 - mean_squared_error: 210.3358\n",
            "Epoch 46/100\n",
            "617/617 [==============================] - 1s 2ms/step - loss: 210.3531 - mean_squared_error: 210.3531\n",
            "Epoch 47/100\n",
            "617/617 [==============================] - 1s 2ms/step - loss: 210.2070 - mean_squared_error: 210.2070\n",
            "Epoch 48/100\n",
            "617/617 [==============================] - 1s 2ms/step - loss: 210.3301 - mean_squared_error: 210.3301\n",
            "Epoch 49/100\n",
            "617/617 [==============================] - 1s 2ms/step - loss: 210.2952 - mean_squared_error: 210.2952\n",
            "Epoch 50/100\n",
            "617/617 [==============================] - 1s 2ms/step - loss: 210.1586 - mean_squared_error: 210.1586\n",
            "Epoch 51/100\n",
            "617/617 [==============================] - 1s 2ms/step - loss: 210.2793 - mean_squared_error: 210.2793\n",
            "Epoch 52/100\n",
            "617/617 [==============================] - 1s 2ms/step - loss: 210.2563 - mean_squared_error: 210.2563\n",
            "Epoch 53/100\n",
            "617/617 [==============================] - 1s 2ms/step - loss: 210.2199 - mean_squared_error: 210.2199\n",
            "Epoch 54/100\n",
            "617/617 [==============================] - 1s 2ms/step - loss: 210.1061 - mean_squared_error: 210.1061\n",
            "Epoch 55/100\n",
            "617/617 [==============================] - 1s 2ms/step - loss: 210.1212 - mean_squared_error: 210.1212\n",
            "Epoch 56/100\n",
            "617/617 [==============================] - 1s 2ms/step - loss: 210.1988 - mean_squared_error: 210.1988\n",
            "Epoch 57/100\n",
            "617/617 [==============================] - 1s 2ms/step - loss: 210.2294 - mean_squared_error: 210.2294\n",
            "Epoch 58/100\n",
            "617/617 [==============================] - 1s 2ms/step - loss: 210.1472 - mean_squared_error: 210.1472\n",
            "Epoch 59/100\n",
            "617/617 [==============================] - 1s 2ms/step - loss: 210.3534 - mean_squared_error: 210.3534\n",
            "Epoch 60/100\n",
            "617/617 [==============================] - 1s 2ms/step - loss: 210.0735 - mean_squared_error: 210.0735\n",
            "Epoch 61/100\n",
            "617/617 [==============================] - 1s 2ms/step - loss: 210.1127 - mean_squared_error: 210.1127\n",
            "Epoch 62/100\n",
            "617/617 [==============================] - 1s 2ms/step - loss: 210.1370 - mean_squared_error: 210.1370\n",
            "Epoch 63/100\n",
            "617/617 [==============================] - 1s 2ms/step - loss: 210.1231 - mean_squared_error: 210.1231\n",
            "Epoch 64/100\n",
            "617/617 [==============================] - 1s 2ms/step - loss: 210.1004 - mean_squared_error: 210.1004\n",
            "Epoch 65/100\n",
            "617/617 [==============================] - 1s 2ms/step - loss: 210.1231 - mean_squared_error: 210.1231\n",
            "Epoch 66/100\n",
            "617/617 [==============================] - 1s 2ms/step - loss: 210.1797 - mean_squared_error: 210.1797\n",
            "Epoch 67/100\n",
            "617/617 [==============================] - 1s 2ms/step - loss: 210.0043 - mean_squared_error: 210.0043\n",
            "Epoch 68/100\n",
            "617/617 [==============================] - 1s 2ms/step - loss: 210.0761 - mean_squared_error: 210.0761\n",
            "Epoch 69/100\n",
            "617/617 [==============================] - 1s 2ms/step - loss: 209.9478 - mean_squared_error: 209.9478\n",
            "Epoch 70/100\n",
            "617/617 [==============================] - 1s 2ms/step - loss: 210.0312 - mean_squared_error: 210.0312\n",
            "Epoch 71/100\n",
            "617/617 [==============================] - 1s 2ms/step - loss: 209.9628 - mean_squared_error: 209.9628\n",
            "Epoch 72/100\n",
            "617/617 [==============================] - 1s 2ms/step - loss: 209.9971 - mean_squared_error: 209.9971\n",
            "Epoch 73/100\n",
            "617/617 [==============================] - 1s 2ms/step - loss: 209.9235 - mean_squared_error: 209.9235\n",
            "Epoch 74/100\n",
            "617/617 [==============================] - 1s 2ms/step - loss: 210.0105 - mean_squared_error: 210.0105\n",
            "Epoch 75/100\n",
            "617/617 [==============================] - 1s 2ms/step - loss: 209.9967 - mean_squared_error: 209.9967\n",
            "Epoch 76/100\n",
            "617/617 [==============================] - 1s 2ms/step - loss: 210.0537 - mean_squared_error: 210.0537\n",
            "Epoch 77/100\n",
            "617/617 [==============================] - 1s 2ms/step - loss: 209.9039 - mean_squared_error: 209.9039\n",
            "Epoch 78/100\n",
            "617/617 [==============================] - 1s 2ms/step - loss: 210.0264 - mean_squared_error: 210.0264\n",
            "Epoch 79/100\n",
            "617/617 [==============================] - 1s 2ms/step - loss: 210.0425 - mean_squared_error: 210.0425\n",
            "Epoch 80/100\n",
            "617/617 [==============================] - 1s 2ms/step - loss: 210.2050 - mean_squared_error: 210.2050\n",
            "Epoch 81/100\n",
            "617/617 [==============================] - 1s 2ms/step - loss: 210.0251 - mean_squared_error: 210.0251\n",
            "Epoch 82/100\n",
            "617/617 [==============================] - 1s 2ms/step - loss: 209.9360 - mean_squared_error: 209.9360\n",
            "Epoch 83/100\n",
            "617/617 [==============================] - 1s 2ms/step - loss: 209.8633 - mean_squared_error: 209.8633\n",
            "Epoch 84/100\n",
            "617/617 [==============================] - 1s 2ms/step - loss: 209.9296 - mean_squared_error: 209.9296\n",
            "Epoch 85/100\n",
            "617/617 [==============================] - 1s 2ms/step - loss: 209.8323 - mean_squared_error: 209.8323\n",
            "Epoch 86/100\n",
            "617/617 [==============================] - 1s 2ms/step - loss: 210.0368 - mean_squared_error: 210.0368\n",
            "Epoch 87/100\n",
            "617/617 [==============================] - 1s 2ms/step - loss: 209.8688 - mean_squared_error: 209.8688\n",
            "Epoch 88/100\n",
            "617/617 [==============================] - 1s 2ms/step - loss: 209.9211 - mean_squared_error: 209.9211\n",
            "Epoch 89/100\n",
            "617/617 [==============================] - 1s 2ms/step - loss: 209.8225 - mean_squared_error: 209.8225\n",
            "Epoch 90/100\n",
            "617/617 [==============================] - 1s 2ms/step - loss: 209.8734 - mean_squared_error: 209.8734\n",
            "Epoch 91/100\n",
            "617/617 [==============================] - 1s 2ms/step - loss: 209.8539 - mean_squared_error: 209.8539\n",
            "Epoch 92/100\n",
            "617/617 [==============================] - 1s 2ms/step - loss: 209.9844 - mean_squared_error: 209.9844\n",
            "Epoch 93/100\n",
            "617/617 [==============================] - 1s 2ms/step - loss: 209.9244 - mean_squared_error: 209.9244\n",
            "Epoch 94/100\n",
            "617/617 [==============================] - 1s 2ms/step - loss: 209.9663 - mean_squared_error: 209.9663\n",
            "Epoch 95/100\n",
            "617/617 [==============================] - 1s 2ms/step - loss: 209.9123 - mean_squared_error: 209.9123\n",
            "Epoch 96/100\n",
            "617/617 [==============================] - 1s 2ms/step - loss: 209.7642 - mean_squared_error: 209.7642\n",
            "Epoch 97/100\n",
            "617/617 [==============================] - 1s 2ms/step - loss: 209.8976 - mean_squared_error: 209.8976\n",
            "Epoch 98/100\n",
            "617/617 [==============================] - 1s 2ms/step - loss: 209.8075 - mean_squared_error: 209.8075\n",
            "Epoch 99/100\n",
            "617/617 [==============================] - 1s 2ms/step - loss: 209.8164 - mean_squared_error: 209.8164\n",
            "Epoch 100/100\n",
            "617/617 [==============================] - 1s 2ms/step - loss: 209.8248 - mean_squared_error: 209.8248\n",
            "Runtime of the program is 143.499347448349\n"
          ]
        }
      ]
    },
    {
      "cell_type": "code",
      "metadata": {
        "id": "5a5f3066",
        "colab": {
          "base_uri": "https://localhost:8080/",
          "height": 976
        },
        "outputId": "410f0882-2af6-4279-9b12-13d52c213e2c"
      },
      "source": [
        "keras.utils.plot_model(model, \"Correlation.png\", show_shapes=True)"
      ],
      "id": "5a5f3066",
      "execution_count": 89,
      "outputs": [
        {
          "output_type": "execute_result",
          "data": {
            "image/png": "[encoded data removed]",
            "text/plain": [
              "<IPython.core.display.Image object>"
            ]
          },
          "metadata": {},
          "execution_count": 89
        }
      ]
    },
    {
      "cell_type": "code",
      "metadata": {
        "id": "bcR3hf6FuHyM"
      },
      "source": [
        "keras.backend.clear_session()"
      ],
      "id": "bcR3hf6FuHyM",
      "execution_count": 90,
      "outputs": []
    },
    {
      "cell_type": "code",
      "metadata": {
        "id": "da3d7386"
      },
      "source": [
        "model2 = keras.models.Sequential([\n",
        "    keras.layers.Dense(10, activation=\"selu\", kernel_initializer=\"lecun_normal\"),\n",
        "    keras.layers.Dense(10, activation=\"selu\", kernel_initializer=\"lecun_normal\"),\n",
        "    keras.layers.Dense(10, activation=\"selu\", kernel_initializer=\"lecun_normal\"),\n",
        "    keras.layers.Dense(8, activation=\"selu\", kernel_initializer=\"lecun_normal\"),\n",
        "    keras.layers.Dense(8, activation=\"selu\", kernel_initializer=\"lecun_normal\"),\n",
        "    keras.layers.Dense(6, activation=\"selu\", kernel_initializer=\"lecun_normal\"),\n",
        "    keras.layers.Dense(1)\n",
        "])"
      ],
      "id": "da3d7386",
      "execution_count": 91,
      "outputs": []
    },
    {
      "cell_type": "code",
      "metadata": {
        "colab": {
          "base_uri": "https://localhost:8080/"
        },
        "id": "089790b5",
        "outputId": "7e5d5591-2b6f-47f6-c9e4-e11a1070ee10"
      },
      "source": [
        "start = time.time()\n",
        "\n",
        "model2.compile(loss=\"mean_squared_error\", optimizer=keras.optimizers.Adam(learning_rate=0.001, beta_1=0.9, beta_2=0.999), metrics=[\"mean_squared_error\"])\n",
        "\n",
        "time.sleep(1)\n",
        "end = time.time()\n",
        "print(f\"Runtime of the program is {end - start}\")"
      ],
      "id": "089790b5",
      "execution_count": 92,
      "outputs": [
        {
          "output_type": "stream",
          "name": "stdout",
          "text": [
            "Runtime of the program is 1.0101301670074463\n"
          ]
        }
      ]
    },
    {
      "cell_type": "code",
      "metadata": {
        "colab": {
          "base_uri": "https://localhost:8080/"
        },
        "id": "825a2059",
        "outputId": "bab095e8-3cca-4807-96ec-079e6c9e7a84"
      },
      "source": [
        "start = time.time()\n",
        "model2.fit(X, y, epochs=100)\n",
        "time.sleep(1)\n",
        "end = time.time()\n",
        "print(f\"Runtime of the program is {end - start}\")"
      ],
      "id": "825a2059",
      "execution_count": 93,
      "outputs": [
        {
          "output_type": "stream",
          "name": "stdout",
          "text": [
            "Epoch 1/100\n",
            "617/617 [==============================] - 2s 2ms/step - loss: 577.8081 - mean_squared_error: 577.8081\n",
            "Epoch 2/100\n",
            "617/617 [==============================] - 1s 2ms/step - loss: 385.8442 - mean_squared_error: 385.8442\n",
            "Epoch 3/100\n",
            "617/617 [==============================] - 1s 2ms/step - loss: 281.9467 - mean_squared_error: 281.9467\n",
            "Epoch 4/100\n",
            "617/617 [==============================] - 1s 2ms/step - loss: 233.1502 - mean_squared_error: 233.1502\n",
            "Epoch 5/100\n",
            "617/617 [==============================] - 1s 2ms/step - loss: 215.3918 - mean_squared_error: 215.3918\n",
            "Epoch 6/100\n",
            "617/617 [==============================] - 1s 2ms/step - loss: 210.8863 - mean_squared_error: 210.8863\n",
            "Epoch 7/100\n",
            "617/617 [==============================] - 1s 2ms/step - loss: 210.1950 - mean_squared_error: 210.1950\n",
            "Epoch 8/100\n",
            "617/617 [==============================] - 1s 2ms/step - loss: 210.1611 - mean_squared_error: 210.1611\n",
            "Epoch 9/100\n",
            "617/617 [==============================] - 1s 2ms/step - loss: 210.1582 - mean_squared_error: 210.1582\n",
            "Epoch 10/100\n",
            "617/617 [==============================] - 1s 2ms/step - loss: 210.1655 - mean_squared_error: 210.1655\n",
            "Epoch 11/100\n",
            "617/617 [==============================] - 1s 2ms/step - loss: 210.1606 - mean_squared_error: 210.1606\n",
            "Epoch 12/100\n",
            "617/617 [==============================] - 1s 2ms/step - loss: 210.1570 - mean_squared_error: 210.1570\n",
            "Epoch 13/100\n",
            "617/617 [==============================] - 1s 2ms/step - loss: 210.1594 - mean_squared_error: 210.1594\n",
            "Epoch 14/100\n",
            "617/617 [==============================] - 1s 2ms/step - loss: 210.1657 - mean_squared_error: 210.1657\n",
            "Epoch 15/100\n",
            "617/617 [==============================] - 1s 2ms/step - loss: 210.1596 - mean_squared_error: 210.1596\n",
            "Epoch 16/100\n",
            "617/617 [==============================] - 1s 2ms/step - loss: 210.1415 - mean_squared_error: 210.1415\n",
            "Epoch 17/100\n",
            "617/617 [==============================] - 1s 2ms/step - loss: 210.1689 - mean_squared_error: 210.1689\n",
            "Epoch 18/100\n",
            "617/617 [==============================] - 1s 2ms/step - loss: 210.1663 - mean_squared_error: 210.1663\n",
            "Epoch 19/100\n",
            "617/617 [==============================] - 1s 2ms/step - loss: 210.1372 - mean_squared_error: 210.1372\n",
            "Epoch 20/100\n",
            "617/617 [==============================] - 1s 2ms/step - loss: 210.1899 - mean_squared_error: 210.1899\n",
            "Epoch 21/100\n",
            "617/617 [==============================] - 1s 2ms/step - loss: 210.1679 - mean_squared_error: 210.1679\n",
            "Epoch 22/100\n",
            "617/617 [==============================] - 1s 2ms/step - loss: 210.1696 - mean_squared_error: 210.1696\n",
            "Epoch 23/100\n",
            "617/617 [==============================] - 1s 2ms/step - loss: 210.1567 - mean_squared_error: 210.1567\n",
            "Epoch 24/100\n",
            "617/617 [==============================] - 1s 2ms/step - loss: 210.1665 - mean_squared_error: 210.1665\n",
            "Epoch 25/100\n",
            "617/617 [==============================] - 1s 2ms/step - loss: 210.3239 - mean_squared_error: 210.3239\n",
            "Epoch 26/100\n",
            "617/617 [==============================] - 1s 2ms/step - loss: 210.1575 - mean_squared_error: 210.1575\n",
            "Epoch 27/100\n",
            "617/617 [==============================] - 1s 2ms/step - loss: 210.1657 - mean_squared_error: 210.1657\n",
            "Epoch 28/100\n",
            "617/617 [==============================] - 1s 2ms/step - loss: 210.1638 - mean_squared_error: 210.1638\n",
            "Epoch 29/100\n",
            "617/617 [==============================] - 1s 2ms/step - loss: 210.1667 - mean_squared_error: 210.1667\n",
            "Epoch 30/100\n",
            "617/617 [==============================] - 1s 2ms/step - loss: 210.1706 - mean_squared_error: 210.1706\n",
            "Epoch 31/100\n",
            "617/617 [==============================] - 1s 2ms/step - loss: 210.1620 - mean_squared_error: 210.1620\n",
            "Epoch 32/100\n",
            "617/617 [==============================] - 1s 2ms/step - loss: 210.1551 - mean_squared_error: 210.1551\n",
            "Epoch 33/100\n",
            "617/617 [==============================] - 1s 2ms/step - loss: 210.1544 - mean_squared_error: 210.1544\n",
            "Epoch 34/100\n",
            "617/617 [==============================] - 1s 2ms/step - loss: 210.1702 - mean_squared_error: 210.1702\n",
            "Epoch 35/100\n",
            "617/617 [==============================] - 1s 2ms/step - loss: 210.1639 - mean_squared_error: 210.1639\n",
            "Epoch 36/100\n",
            "617/617 [==============================] - 1s 2ms/step - loss: 210.1743 - mean_squared_error: 210.1743\n",
            "Epoch 37/100\n",
            "617/617 [==============================] - 1s 2ms/step - loss: 210.1620 - mean_squared_error: 210.1620\n",
            "Epoch 38/100\n",
            "617/617 [==============================] - 1s 2ms/step - loss: 210.1619 - mean_squared_error: 210.1619\n",
            "Epoch 39/100\n",
            "617/617 [==============================] - 1s 2ms/step - loss: 210.1669 - mean_squared_error: 210.1669\n",
            "Epoch 40/100\n",
            "617/617 [==============================] - 1s 2ms/step - loss: 210.1611 - mean_squared_error: 210.1611\n",
            "Epoch 41/100\n",
            "617/617 [==============================] - 1s 2ms/step - loss: 210.1652 - mean_squared_error: 210.1652\n",
            "Epoch 42/100\n",
            "617/617 [==============================] - 1s 2ms/step - loss: 210.1573 - mean_squared_error: 210.1573\n",
            "Epoch 43/100\n",
            "617/617 [==============================] - 1s 2ms/step - loss: 210.1697 - mean_squared_error: 210.1697\n",
            "Epoch 44/100\n",
            "617/617 [==============================] - 1s 2ms/step - loss: 210.1566 - mean_squared_error: 210.1566\n",
            "Epoch 45/100\n",
            "617/617 [==============================] - 1s 2ms/step - loss: 210.4072 - mean_squared_error: 210.4072\n",
            "Epoch 46/100\n",
            "617/617 [==============================] - 1s 2ms/step - loss: 210.1653 - mean_squared_error: 210.1653\n",
            "Epoch 47/100\n",
            "617/617 [==============================] - 1s 2ms/step - loss: 210.2047 - mean_squared_error: 210.2047\n",
            "Epoch 48/100\n",
            "617/617 [==============================] - 1s 2ms/step - loss: 210.1471 - mean_squared_error: 210.1471\n",
            "Epoch 49/100\n",
            "617/617 [==============================] - 1s 2ms/step - loss: 210.1733 - mean_squared_error: 210.1733\n",
            "Epoch 50/100\n",
            "617/617 [==============================] - 1s 2ms/step - loss: 210.1442 - mean_squared_error: 210.1442\n",
            "Epoch 51/100\n",
            "617/617 [==============================] - 1s 2ms/step - loss: 210.1305 - mean_squared_error: 210.1305\n",
            "Epoch 52/100\n",
            "617/617 [==============================] - 1s 2ms/step - loss: 210.1334 - mean_squared_error: 210.1334\n",
            "Epoch 53/100\n",
            "617/617 [==============================] - 1s 2ms/step - loss: 210.1303 - mean_squared_error: 210.1303\n",
            "Epoch 54/100\n",
            "617/617 [==============================] - 1s 2ms/step - loss: 210.1313 - mean_squared_error: 210.1313\n",
            "Epoch 55/100\n",
            "617/617 [==============================] - 1s 2ms/step - loss: 210.1246 - mean_squared_error: 210.1246\n",
            "Epoch 56/100\n",
            "617/617 [==============================] - 1s 2ms/step - loss: 210.1262 - mean_squared_error: 210.1262\n",
            "Epoch 57/100\n",
            "617/617 [==============================] - 1s 2ms/step - loss: 210.1503 - mean_squared_error: 210.1503\n",
            "Epoch 58/100\n",
            "617/617 [==============================] - 1s 2ms/step - loss: 210.1466 - mean_squared_error: 210.1466\n",
            "Epoch 59/100\n",
            "617/617 [==============================] - 1s 2ms/step - loss: 210.1239 - mean_squared_error: 210.1239\n",
            "Epoch 60/100\n",
            "617/617 [==============================] - 1s 2ms/step - loss: 210.1767 - mean_squared_error: 210.1767\n",
            "Epoch 61/100\n",
            "617/617 [==============================] - 1s 2ms/step - loss: 210.1590 - mean_squared_error: 210.1590\n",
            "Epoch 62/100\n",
            "617/617 [==============================] - 1s 2ms/step - loss: 210.1479 - mean_squared_error: 210.1479\n",
            "Epoch 63/100\n",
            "617/617 [==============================] - 1s 2ms/step - loss: 210.1368 - mean_squared_error: 210.1368\n",
            "Epoch 64/100\n",
            "617/617 [==============================] - 1s 2ms/step - loss: 210.1047 - mean_squared_error: 210.1047\n",
            "Epoch 65/100\n",
            "617/617 [==============================] - 1s 2ms/step - loss: 210.1240 - mean_squared_error: 210.1240\n",
            "Epoch 66/100\n",
            "617/617 [==============================] - 1s 2ms/step - loss: 210.1160 - mean_squared_error: 210.1160\n",
            "Epoch 67/100\n",
            "617/617 [==============================] - 1s 2ms/step - loss: 210.1370 - mean_squared_error: 210.1370\n",
            "Epoch 68/100\n",
            "617/617 [==============================] - 1s 2ms/step - loss: 210.0949 - mean_squared_error: 210.0949\n",
            "Epoch 69/100\n",
            "617/617 [==============================] - 1s 2ms/step - loss: 210.1336 - mean_squared_error: 210.1336\n",
            "Epoch 70/100\n",
            "617/617 [==============================] - 1s 2ms/step - loss: 210.1171 - mean_squared_error: 210.1171\n",
            "Epoch 71/100\n",
            "617/617 [==============================] - 1s 2ms/step - loss: 210.0999 - mean_squared_error: 210.0999\n",
            "Epoch 72/100\n",
            "617/617 [==============================] - 1s 2ms/step - loss: 210.1209 - mean_squared_error: 210.1209\n",
            "Epoch 73/100\n",
            "617/617 [==============================] - 1s 2ms/step - loss: 210.1024 - mean_squared_error: 210.1024\n",
            "Epoch 74/100\n",
            "617/617 [==============================] - 1s 2ms/step - loss: 210.0705 - mean_squared_error: 210.0705\n",
            "Epoch 75/100\n",
            "617/617 [==============================] - 1s 2ms/step - loss: 210.1100 - mean_squared_error: 210.1100\n",
            "Epoch 76/100\n",
            "617/617 [==============================] - 1s 2ms/step - loss: 210.1275 - mean_squared_error: 210.1275\n",
            "Epoch 77/100\n",
            "617/617 [==============================] - 1s 2ms/step - loss: 210.0945 - mean_squared_error: 210.0945\n",
            "Epoch 78/100\n",
            "617/617 [==============================] - 1s 2ms/step - loss: 210.1195 - mean_squared_error: 210.1195\n",
            "Epoch 79/100\n",
            "617/617 [==============================] - 1s 2ms/step - loss: 210.1210 - mean_squared_error: 210.1210\n",
            "Epoch 80/100\n",
            "617/617 [==============================] - 1s 2ms/step - loss: 210.1137 - mean_squared_error: 210.1137\n",
            "Epoch 81/100\n",
            "617/617 [==============================] - 1s 2ms/step - loss: 210.1104 - mean_squared_error: 210.1104\n",
            "Epoch 82/100\n",
            "617/617 [==============================] - 1s 2ms/step - loss: 210.1267 - mean_squared_error: 210.1267\n",
            "Epoch 83/100\n",
            "617/617 [==============================] - 1s 2ms/step - loss: 210.0995 - mean_squared_error: 210.0995\n",
            "Epoch 84/100\n",
            "617/617 [==============================] - 1s 2ms/step - loss: 210.1118 - mean_squared_error: 210.1118\n",
            "Epoch 85/100\n",
            "617/617 [==============================] - 1s 2ms/step - loss: 210.1085 - mean_squared_error: 210.1085\n",
            "Epoch 86/100\n",
            "617/617 [==============================] - 1s 2ms/step - loss: 210.0932 - mean_squared_error: 210.0932\n",
            "Epoch 87/100\n",
            "617/617 [==============================] - 1s 2ms/step - loss: 210.1041 - mean_squared_error: 210.1041\n",
            "Epoch 88/100\n",
            "617/617 [==============================] - 1s 2ms/step - loss: 210.1032 - mean_squared_error: 210.1032\n",
            "Epoch 89/100\n",
            "617/617 [==============================] - 1s 2ms/step - loss: 210.1238 - mean_squared_error: 210.1238\n",
            "Epoch 90/100\n",
            "617/617 [==============================] - 1s 2ms/step - loss: 210.1055 - mean_squared_error: 210.1055\n",
            "Epoch 91/100\n",
            "617/617 [==============================] - 1s 2ms/step - loss: 210.0880 - mean_squared_error: 210.0880\n",
            "Epoch 92/100\n",
            "617/617 [==============================] - 1s 2ms/step - loss: 210.0844 - mean_squared_error: 210.0844\n",
            "Epoch 93/100\n",
            "617/617 [==============================] - 1s 2ms/step - loss: 210.1055 - mean_squared_error: 210.1055\n",
            "Epoch 94/100\n",
            "617/617 [==============================] - 1s 2ms/step - loss: 210.0954 - mean_squared_error: 210.0954\n",
            "Epoch 95/100\n",
            "617/617 [==============================] - 1s 2ms/step - loss: 210.0992 - mean_squared_error: 210.0992\n",
            "Epoch 96/100\n",
            "617/617 [==============================] - 1s 2ms/step - loss: 210.0640 - mean_squared_error: 210.0640\n",
            "Epoch 97/100\n",
            "617/617 [==============================] - 1s 2ms/step - loss: 210.0630 - mean_squared_error: 210.0630\n",
            "Epoch 98/100\n",
            "617/617 [==============================] - 1s 2ms/step - loss: 210.0960 - mean_squared_error: 210.0960\n",
            "Epoch 99/100\n",
            "617/617 [==============================] - 1s 2ms/step - loss: 210.0801 - mean_squared_error: 210.0801\n",
            "Epoch 100/100\n",
            "617/617 [==============================] - 1s 2ms/step - loss: 210.0881 - mean_squared_error: 210.0881\n",
            "Runtime of the program is 143.50368452072144\n"
          ]
        }
      ]
    },
    {
      "cell_type": "code",
      "metadata": {
        "colab": {
          "base_uri": "https://localhost:8080/"
        },
        "id": "f610ea83",
        "outputId": "0537e87a-2aa4-40b2-b763-aa90d0a65bb3"
      },
      "source": [
        "model2.summary()"
      ],
      "id": "f610ea83",
      "execution_count": 94,
      "outputs": [
        {
          "output_type": "stream",
          "name": "stdout",
          "text": [
            "Model: \"sequential\"\n",
            "_________________________________________________________________\n",
            "Layer (type)                 Output Shape              Param #   \n",
            "=================================================================\n",
            "dense (Dense)                (None, 10)                270       \n",
            "_________________________________________________________________\n",
            "dense_1 (Dense)              (None, 10)                110       \n",
            "_________________________________________________________________\n",
            "dense_2 (Dense)              (None, 10)                110       \n",
            "_________________________________________________________________\n",
            "dense_3 (Dense)              (None, 8)                 88        \n",
            "_________________________________________________________________\n",
            "dense_4 (Dense)              (None, 8)                 72        \n",
            "_________________________________________________________________\n",
            "dense_5 (Dense)              (None, 6)                 54        \n",
            "_________________________________________________________________\n",
            "dense_6 (Dense)              (None, 1)                 7         \n",
            "=================================================================\n",
            "Total params: 711\n",
            "Trainable params: 711\n",
            "Non-trainable params: 0\n",
            "_________________________________________________________________\n"
          ]
        }
      ]
    },
    {
      "cell_type": "code",
      "metadata": {
        "colab": {
          "base_uri": "https://localhost:8080/",
          "height": 865
        },
        "id": "3120f7e6",
        "outputId": "c286e9dd-dfd2-4e1f-ad81-b7f46eb6eec3"
      },
      "source": [
        "keras.utils.plot_model(model2, \"NonCorrelation.png\", show_shapes=True)"
      ],
      "id": "3120f7e6",
      "execution_count": 95,
      "outputs": [
        {
          "output_type": "execute_result",
          "data": {
            "image/png": "[encoded data removed]",
            "text/plain": [
              "<IPython.core.display.Image object>"
            ]
          },
          "metadata": {},
          "execution_count": 95
        }
      ]
    }
  ]
}
